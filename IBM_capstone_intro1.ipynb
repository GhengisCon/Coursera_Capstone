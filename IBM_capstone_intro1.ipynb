{
    "cells": [
        {
            "cell_type": "markdown",
            "metadata": {},
            "source": "# <u> Data Science Capstone project: battle of the neighborhoods</u>\n### Connor Ruch"
        },
        {
            "cell_type": "markdown",
            "metadata": {},
            "source": "## introduction/Business Problem"
        },
        {
            "cell_type": "markdown",
            "metadata": {},
            "source": "- Define a problem or an idea where i would need to leverage the Foursquare location data to solve or execute\n- Lets say that a mechanic wants to open a new shop in the DC area. If he could know where there would be demand for a new shop and not too much other competition he could pick that area.\n- I plan to use the foursquare location data to get locations of all mechanics in the Washington, DC area. I will leverage this data to predict where the prosctive business owner could open a new shop. \n- If i can find a location with crashes and few mechanics it might be a sign that there is demand for a new shop at that area. \n- my steakholders would be any mechanics looking to open a new shop."
        },
        {
            "cell_type": "code",
            "execution_count": null,
            "metadata": {},
            "outputs": [],
            "source": ""
        }
    ],
    "metadata": {
        "kernelspec": {
            "display_name": "Python 3.7",
            "language": "python",
            "name": "python3"
        },
        "language_info": {
            "codemirror_mode": {
                "name": "ipython",
                "version": 3
            },
            "file_extension": ".py",
            "mimetype": "text/x-python",
            "name": "python",
            "nbconvert_exporter": "python",
            "pygments_lexer": "ipython3",
            "version": "3.7.10"
        }
    },
    "nbformat": 4,
    "nbformat_minor": 5
}