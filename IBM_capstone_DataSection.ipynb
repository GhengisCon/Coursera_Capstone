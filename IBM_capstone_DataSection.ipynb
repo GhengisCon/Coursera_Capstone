{
    "cells": [
        {
            "cell_type": "markdown",
            "metadata": {},
            "source": "# <u> Data Science Capstone project: battle of the neighborhoods</u>\n### Connor Ruch"
        },
        {
            "cell_type": "markdown",
            "metadata": {},
            "source": "## Introduction/Business Problem"
        },
        {
            "cell_type": "markdown",
            "metadata": {},
            "source": "- Define a problem or an idea where i would need to leverage the Foursquare location data to solve or execute\n- Lets say that a mechanic wants to open a new shop in the DC area. If he could know where there would be demand for a new shop and no too much other competition he could pick that area.\n- I plan to use the foursquare location data to get locations of all mechanics in the Washington, DC area. I will leverage this data to predict where the prosctive business owner could open a new shop. \n- If i can find a location with crashes and few mechanics it might be a sign that there is demand for a new shop at that area. \n- my steakholders would be any mechanics looking to open a new shop."
        },
        {
            "cell_type": "markdown",
            "metadata": {},
            "source": "## Data Used"
        },
        {
            "cell_type": "markdown",
            "metadata": {},
            "source": "- this report will use the foursquare API to get location data for all mechanics in the DC area\n- I will also be using a dataset of vehicle crashses in the Washington, DC area. The data was downloaded from Kaggle at this url : \"https://www.kaggle.com/gauravduttakiit/accidents-in-washington-dc\""
        },
        {
            "cell_type": "markdown",
            "metadata": {},
            "source": "Data explained:\n- The foursquare data will list all the mechanics in the Washington, DC area including the latitude and longitude of the locations which will be important in mapping them. This data will be used by querying for matches of \"Auto\" and \"mechanic\" as the search terms. \n- The vehicle crash dataset includes crashes in the Washington, DC area. this dataset also includes latitude and longitude which is impertive for the mapping to the other dataset.\n\nExamples below"
        },
        {
            "cell_type": "code",
            "execution_count": 2,
            "metadata": {},
            "outputs": [
                {
                    "name": "stdout",
                    "output_type": "stream",
                    "text": "Coordinates for Washington, DC: 38.8949924, -77.0365581\n"
                }
            ],
            "source": "# import libraries\nimport pandas as pd\nimport numpy as np\nimport json\nfrom geopy.geocoders import Nominatim\nimport requests\nfrom pandas.io.json import json_normalize\nimport folium\n\n\n# use geolocator to get coordinates\naddress = 'Washington, DC'\n\ngeolocator = Nominatim(user_agent='test_proj')\nlocation = geolocator.geocode(address)\nlat = location.latitude\nlong = location.longitude\nprint(\"Coordinates for Washington, DC: {}, {}\".format(lat, long))"
        },
        {
            "cell_type": "code",
            "execution_count": 1,
            "metadata": {},
            "outputs": [],
            "source": "# The code was removed by Watson Studio for sharing."
        },
        {
            "cell_type": "code",
            "execution_count": 9,
            "metadata": {},
            "outputs": [
                {
                    "name": "stdout",
                    "output_type": "stream",
                    "text": "['auto', 'mechanic']\n"
                }
            ],
            "source": "search_query = ['auto', 'mechanic'] #changed to blank\nradius = 3000\nprint(search_query)\n\nurl = 'https://api.foursquare.com/v2/venues/search?client_id={}&client_secret={}&ll={},{}&oauth_token={}&v={}\\\n&query={}&radius={}&limit={}'.format(\n    CLIENT_ID, CLIENT_SECRET, lat, long,ACCESS_TOKEN, VERSION, search_query, radius, LIMIT)\n\nresults = requests.get(url).json()"
        },
        {
            "cell_type": "markdown",
            "metadata": {},
            "source": "#### - Below is an example of the dataframe that would result when getting this data from foursquare\n####  - Below the first dataframe is an example of the data from the vehicle accident data"
        },
        {
            "cell_type": "code",
            "execution_count": 10,
            "metadata": {
                "scrolled": true
            },
            "outputs": [
                {
                    "name": "stderr",
                    "output_type": "stream",
                    "text": "c:\\users\\jiminey\\appdata\\local\\programs\\python\\python36-32\\lib\\site-packages\\ipykernel_launcher.py:2: FutureWarning: pandas.io.json.json_normalize is deprecated, use pandas.json_normalize instead\n  \n"
                },
                {
                    "data": {
                        "text/html": "<div>\n<style scoped>\n    .dataframe tbody tr th:only-of-type {\n        vertical-align: middle;\n    }\n\n    .dataframe tbody tr th {\n        vertical-align: top;\n    }\n\n    .dataframe thead th {\n        text-align: right;\n    }\n</style>\n<table border=\"1\" class=\"dataframe\">\n  <thead>\n    <tr style=\"text-align: right;\">\n      <th></th>\n      <th>id</th>\n      <th>name</th>\n      <th>categories</th>\n      <th>referralId</th>\n      <th>hasPerk</th>\n      <th>location.lat</th>\n      <th>location.lng</th>\n      <th>location.labeledLatLngs</th>\n      <th>location.distance</th>\n      <th>location.postalCode</th>\n      <th>location.cc</th>\n      <th>location.city</th>\n      <th>location.state</th>\n      <th>location.country</th>\n      <th>location.formattedAddress</th>\n      <th>location.address</th>\n      <th>location.crossStreet</th>\n      <th>venuePage.id</th>\n      <th>location.neighborhood</th>\n    </tr>\n  </thead>\n  <tbody>\n    <tr>\n      <th>0</th>\n      <td>4c0e872cd64c0f474e57285d</td>\n      <td>Auto Alliance</td>\n      <td>[]</td>\n      <td>v-1624585645</td>\n      <td>False</td>\n      <td>38.902200</td>\n      <td>-77.033240</td>\n      <td>[{'label': 'display', 'lat': 38.9022, 'lng': -...</td>\n      <td>852</td>\n      <td>20005</td>\n      <td>US</td>\n      <td>Washington</td>\n      <td>D.C.</td>\n      <td>United States</td>\n      <td>[Washington, D.C. 20005, United States]</td>\n      <td>NaN</td>\n      <td>NaN</td>\n      <td>NaN</td>\n      <td>NaN</td>\n    </tr>\n    <tr>\n      <th>1</th>\n      <td>51e7ea1f498e25214b5aa4e5</td>\n      <td>Auto Alliance</td>\n      <td>[{'id': '4bf58dd8d48988d124941735', 'name': 'O...</td>\n      <td>v-1624585645</td>\n      <td>False</td>\n      <td>38.900070</td>\n      <td>-77.021512</td>\n      <td>[{'label': 'display', 'lat': 38.90007, 'lng': ...</td>\n      <td>1420</td>\n      <td>NaN</td>\n      <td>US</td>\n      <td>Washington</td>\n      <td>D.C.</td>\n      <td>United States</td>\n      <td>[803 7th Street, NW, Washington, D.C., United ...</td>\n      <td>803 7th Street, NW</td>\n      <td>NaN</td>\n      <td>NaN</td>\n      <td>NaN</td>\n    </tr>\n    <tr>\n      <th>2</th>\n      <td>4dcc714c887714552bd6ce29</td>\n      <td>Auto Ching Ching Mercedes</td>\n      <td>[{'id': '4bf58dd8d48988d1f9931735', 'name': 'R...</td>\n      <td>v-1624585645</td>\n      <td>False</td>\n      <td>38.905593</td>\n      <td>-77.043451</td>\n      <td>[{'label': 'display', 'lat': 38.90559342916098...</td>\n      <td>1322</td>\n      <td>20001</td>\n      <td>US</td>\n      <td>Washington</td>\n      <td>D.C.</td>\n      <td>United States</td>\n      <td>[Washington, D.C. 20001, United States]</td>\n      <td>NaN</td>\n      <td>NaN</td>\n      <td>NaN</td>\n      <td>NaN</td>\n    </tr>\n    <tr>\n      <th>3</th>\n      <td>4c44b3f9f799e21ef633aea2</td>\n      <td>Automated Graphic Imaging</td>\n      <td>[]</td>\n      <td>v-1624585645</td>\n      <td>False</td>\n      <td>38.905868</td>\n      <td>-77.032239</td>\n      <td>[{'label': 'display', 'lat': 38.905868, 'lng':...</td>\n      <td>1267</td>\n      <td>20005</td>\n      <td>US</td>\n      <td>Washington</td>\n      <td>D.C.</td>\n      <td>United States</td>\n      <td>[1090 Vermont Ave NW, Lowr LEVEL (Vermont and ...</td>\n      <td>1090 Vermont Ave NW, Lowr LEVEL</td>\n      <td>Vermont and L</td>\n      <td>NaN</td>\n      <td>NaN</td>\n    </tr>\n    <tr>\n      <th>4</th>\n      <td>4cc89943d54fa1cdb28d3229</td>\n      <td>Exotic Auto Detail</td>\n      <td>[{'id': '4f04ae1f2fb6e1c99f3db0ba', 'name': 'C...</td>\n      <td>v-1624585645</td>\n      <td>False</td>\n      <td>38.904973</td>\n      <td>-77.048837</td>\n      <td>[{'label': 'display', 'lat': 38.90497265713505...</td>\n      <td>1538</td>\n      <td>20037</td>\n      <td>US</td>\n      <td>Washington</td>\n      <td>D.C.</td>\n      <td>United States</td>\n      <td>[1150 22nd St NW, Washington, D.C. 20037, Unit...</td>\n      <td>1150 22nd St NW</td>\n      <td>NaN</td>\n      <td>57955077</td>\n      <td>NaN</td>\n    </tr>\n  </tbody>\n</table>\n</div>",
                        "text/plain": "                         id                       name  \\\n0  4c0e872cd64c0f474e57285d              Auto Alliance   \n1  51e7ea1f498e25214b5aa4e5              Auto Alliance   \n2  4dcc714c887714552bd6ce29  Auto Ching Ching Mercedes   \n3  4c44b3f9f799e21ef633aea2  Automated Graphic Imaging   \n4  4cc89943d54fa1cdb28d3229         Exotic Auto Detail   \n\n                                          categories    referralId  hasPerk  \\\n0                                                 []  v-1624585645    False   \n1  [{'id': '4bf58dd8d48988d124941735', 'name': 'O...  v-1624585645    False   \n2  [{'id': '4bf58dd8d48988d1f9931735', 'name': 'R...  v-1624585645    False   \n3                                                 []  v-1624585645    False   \n4  [{'id': '4f04ae1f2fb6e1c99f3db0ba', 'name': 'C...  v-1624585645    False   \n\n   location.lat  location.lng  \\\n0     38.902200    -77.033240   \n1     38.900070    -77.021512   \n2     38.905593    -77.043451   \n3     38.905868    -77.032239   \n4     38.904973    -77.048837   \n\n                             location.labeledLatLngs  location.distance  \\\n0  [{'label': 'display', 'lat': 38.9022, 'lng': -...                852   \n1  [{'label': 'display', 'lat': 38.90007, 'lng': ...               1420   \n2  [{'label': 'display', 'lat': 38.90559342916098...               1322   \n3  [{'label': 'display', 'lat': 38.905868, 'lng':...               1267   \n4  [{'label': 'display', 'lat': 38.90497265713505...               1538   \n\n  location.postalCode location.cc location.city location.state  \\\n0               20005          US    Washington           D.C.   \n1                 NaN          US    Washington           D.C.   \n2               20001          US    Washington           D.C.   \n3               20005          US    Washington           D.C.   \n4               20037          US    Washington           D.C.   \n\n  location.country                          location.formattedAddress  \\\n0    United States            [Washington, D.C. 20005, United States]   \n1    United States  [803 7th Street, NW, Washington, D.C., United ...   \n2    United States            [Washington, D.C. 20001, United States]   \n3    United States  [1090 Vermont Ave NW, Lowr LEVEL (Vermont and ...   \n4    United States  [1150 22nd St NW, Washington, D.C. 20037, Unit...   \n\n                  location.address location.crossStreet venuePage.id  \\\n0                              NaN                  NaN          NaN   \n1               803 7th Street, NW                  NaN          NaN   \n2                              NaN                  NaN          NaN   \n3  1090 Vermont Ave NW, Lowr LEVEL        Vermont and L          NaN   \n4                  1150 22nd St NW                  NaN     57955077   \n\n  location.neighborhood  \n0                   NaN  \n1                   NaN  \n2                   NaN  \n3                   NaN  \n4                   NaN  "
                    },
                    "execution_count": 10,
                    "metadata": {},
                    "output_type": "execute_result"
                }
            ],
            "source": "venues = results['response']['venues']\ndf = json_normalize(venues)\ndf.head()"
        },
        {
            "cell_type": "code",
            "execution_count": 12,
            "metadata": {},
            "outputs": [
                {
                    "name": "stdout",
                    "output_type": "stream",
                    "text": "(1426, 3)\n"
                },
                {
                    "data": {
                        "text/html": "<div>\n<style scoped>\n    .dataframe tbody tr th:only-of-type {\n        vertical-align: middle;\n    }\n\n    .dataframe tbody tr th {\n        vertical-align: top;\n    }\n\n    .dataframe thead th {\n        text-align: right;\n    }\n</style>\n<table border=\"1\" class=\"dataframe\">\n  <thead>\n    <tr style=\"text-align: right;\">\n      <th></th>\n      <th>ID</th>\n      <th>lat</th>\n      <th>long</th>\n    </tr>\n  </thead>\n  <tbody>\n    <tr>\n      <th>805</th>\n      <td>A-2575025</td>\n      <td>38.872988</td>\n      <td>-77.042354</td>\n    </tr>\n    <tr>\n      <th>1189</th>\n      <td>A-3309587</td>\n      <td>38.873060</td>\n      <td>-77.042273</td>\n    </tr>\n    <tr>\n      <th>991</th>\n      <td>A-2884633</td>\n      <td>38.873160</td>\n      <td>-77.042170</td>\n    </tr>\n    <tr>\n      <th>975</th>\n      <td>A-2871809</td>\n      <td>38.873160</td>\n      <td>-77.042170</td>\n    </tr>\n    <tr>\n      <th>974</th>\n      <td>A-2871799</td>\n      <td>38.873160</td>\n      <td>-77.042170</td>\n    </tr>\n  </tbody>\n</table>\n</div>",
                        "text/plain": "             ID        lat       long\n805   A-2575025  38.872988 -77.042354\n1189  A-3309587  38.873060 -77.042273\n991   A-2884633  38.873160 -77.042170\n975   A-2871809  38.873160 -77.042170\n974   A-2871799  38.873160 -77.042170"
                    },
                    "execution_count": 12,
                    "metadata": {},
                    "output_type": "execute_result"
                }
            ],
            "source": "dc_crash_df = pd.read_csv(\"Washington_accidents.csv\")\n\nlatitudes = []\nfor lat, long, label in zip(dc_crash_df['Start_Lat'], dc_crash_df['Start_Lng'], dc_crash_df['ID']):\n    temp_dic = {}\n    if lat > 38.93 or lat < 38.85:\n        pass \n    else:\n        if long > -77.01 or long < -77.06:\n            pass\n        else:\n            temp_dic['ID'] = label\n            temp_dic['lat'] = lat\n            temp_dic['long'] = long\n    if temp_dic:\n        latitudes.append(temp_dic)\n    \n#print(latitudes)\ndc_df = pd.DataFrame(latitudes)\nprint(dc_df.shape)\ndc_df.sort_values(by='lat', ascending=True).head()"
        },
        {
            "cell_type": "code",
            "execution_count": null,
            "metadata": {},
            "outputs": [],
            "source": ""
        }
    ],
    "metadata": {
        "kernelspec": {
            "display_name": "Python 3.7",
            "language": "python",
            "name": "python3"
        },
        "language_info": {
            "codemirror_mode": {
                "name": "ipython",
                "version": 3
            },
            "file_extension": ".py",
            "mimetype": "text/x-python",
            "name": "python",
            "nbconvert_exporter": "python",
            "pygments_lexer": "ipython3",
            "version": "3.7.10"
        }
    },
    "nbformat": 4,
    "nbformat_minor": 5
}